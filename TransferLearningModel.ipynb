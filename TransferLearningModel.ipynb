{
 "cells": [
  {
   "cell_type": "markdown",
   "id": "a3d2ea28",
   "metadata": {
    "papermill": {
     "duration": 0.01302,
     "end_time": "2023-11-19T20:19:21.943430",
     "exception": false,
     "start_time": "2023-11-19T20:19:21.930410",
     "status": "completed"
    },
    "tags": []
   },
   "source": [
    "# Identification of Plant Leaf diseases using Transfer Learning Method - Inception V3"
   ]
  },
  {
   "cell_type": "markdown",
   "id": "e59b1c9f",
   "metadata": {
    "papermill": {
     "duration": 0.012895,
     "end_time": "2023-11-19T20:19:22.021927",
     "exception": false,
     "start_time": "2023-11-19T20:19:22.009032",
     "status": "completed"
    },
    "tags": []
   },
   "source": [
    "**Importing necessary python libraries and Modules**"
   ]
  },
  {
   "cell_type": "code",
   "execution_count": null,
   "id": "f9ea6dfb",
   "metadata": {
    "execution": {
     "iopub.execute_input": "2023-11-19T20:19:22.085193Z",
     "iopub.status.busy": "2023-11-19T20:19:22.084930Z",
     "iopub.status.idle": "2023-11-19T20:19:31.807896Z",
     "shell.execute_reply": "2023-11-19T20:19:31.806764Z"
    },
    "papermill": {
     "duration": 9.740268,
     "end_time": "2023-11-19T20:19:31.810666",
     "exception": false,
     "start_time": "2023-11-19T20:19:22.070398",
     "status": "completed"
    },
    "tags": []
   },
   "outputs": [],
   "source": [
    "#!pip install plotly\n",
    "import tensorflow as tf\n",
    "from tensorflow.keras.models import Sequential,Model\n",
    "from tensorflow.keras.layers import Dense,Flatten,Conv2D,MaxPooling2D\n",
    "from tensorflow.keras.layers  import Concatenate\n",
    "from tensorflow.keras.layers import AveragePooling2D, Dropout, Input, BatchNormalization\n",
    "from tensorflow import keras\n",
    "from tensorflow.keras import layers\n",
    "from tensorflow.keras.optimizers import SGD\n",
    "from sklearn.metrics import classification_report, confusion_matrix\n",
    "from keras.layers import Input, Add, Dense,GlobalAvgPool2D, Concatenate, AvgPool2D, Dropout, ReLU, Activation, MaxPool2D, ZeroPadding2D, BatchNormalization, Flatten, Conv2D, GlobalAveragePooling2D, AveragePooling2D, MaxPooling2D, GlobalMaxPooling2D\n",
    "import matplotlib.pyplot as plt # for ploting graph\n",
    "import os"
   ]
  },
  {
   "cell_type": "code",
   "execution_count": null,
   "id": "73dc71a7",
   "metadata": {},
   "outputs": [],
   "source": [
    "from tensorflow.keras.preprocessing.image import load_img, img_to_array, ImageDataGenerator\n",
    "from sklearn.metrics import confusion_matrix, ConfusionMatrixDisplay\n",
    "from sklearn.metrics import classification_report\n",
    "from sklearn.preprocessing import LabelBinarizer\n",
    "#For ROC\n",
    "from sklearn.metrics import roc_curve \n",
    "from sklearn.metrics import auc\n",
    "from sklearn.metrics import roc_auc_score\n",
    "from time import perf_counter "
   ]
  },
  {
   "cell_type": "code",
   "execution_count": null,
   "id": "2ef8f310",
   "metadata": {},
   "outputs": [],
   "source": [
    "import plotly.graph_objects as go_obj\n",
    "from plotly.subplots import make_subplots\n",
    "import pandas as pd\n",
    "import matplotlib.pyplot as plt\n",
    "import numpy as np"
   ]
  },
  {
   "cell_type": "markdown",
   "id": "b52333fb",
   "metadata": {
    "papermill": {
     "duration": 0.013332,
     "end_time": "2023-11-19T20:19:31.839402",
     "exception": false,
     "start_time": "2023-11-19T20:19:31.826070",
     "status": "completed"
    },
    "tags": []
   },
   "source": [
    "**Setting the path where train,valid and test directories are located**"
   ]
  },
  {
   "cell_type": "code",
   "execution_count": null,
   "id": "c308d715",
   "metadata": {
    "execution": {
     "iopub.execute_input": "2023-11-19T20:19:31.867619Z",
     "iopub.status.busy": "2023-11-19T20:19:31.867069Z",
     "iopub.status.idle": "2023-11-19T20:19:31.882446Z",
     "shell.execute_reply": "2023-11-19T20:19:31.881648Z"
    },
    "papermill": {
     "duration": 0.03174,
     "end_time": "2023-11-19T20:19:31.884368",
     "exception": false,
     "start_time": "2023-11-19T20:19:31.852628",
     "status": "completed"
    },
    "tags": []
   },
   "outputs": [],
   "source": [
    "dataset_root = \"/kaggle/input/new-plant-diseases-dataset/new plant diseases dataset(augmented)/New Plant Diseases Dataset(Augmented)\"\n",
    "train_path = os.path.join(dataset_root, \"train\")\n",
    "valid_path = os.path.join(dataset_root, \"valid\")\n",
    "test_path  = os.path.join(\"/kaggle/input/new-plant-diseases-dataset/test\", \"test\")\n",
    "diseases   = os.listdir(train_path) # name of the disease here"
   ]
  },
  {
   "cell_type": "code",
   "execution_count": null,
   "id": "4961fb8f",
   "metadata": {
    "execution": {
     "iopub.execute_input": "2023-11-19T20:19:31.912395Z",
     "iopub.status.busy": "2023-11-19T20:19:31.912148Z",
     "iopub.status.idle": "2023-11-19T20:19:31.916040Z",
     "shell.execute_reply": "2023-11-19T20:19:31.915195Z"
    },
    "papermill": {
     "duration": 0.019986,
     "end_time": "2023-11-19T20:19:31.918072",
     "exception": false,
     "start_time": "2023-11-19T20:19:31.898086",
     "status": "completed"
    },
    "tags": []
   },
   "outputs": [],
   "source": [
    "batch_size=50 # batch size "
   ]
  },
  {
   "cell_type": "code",
   "execution_count": null,
   "id": "d93d0b3f",
   "metadata": {
    "execution": {
     "iopub.execute_input": "2023-11-19T20:19:31.945562Z",
     "iopub.status.busy": "2023-11-19T20:19:31.945303Z",
     "iopub.status.idle": "2023-11-19T20:20:23.106773Z",
     "shell.execute_reply": "2023-11-19T20:20:23.105894Z"
    },
    "papermill": {
     "duration": 51.177844,
     "end_time": "2023-11-19T20:20:23.109224",
     "exception": false,
     "start_time": "2023-11-19T20:19:31.931380",
     "status": "completed"
    },
    "tags": []
   },
   "outputs": [],
   "source": [
    "#Setting the Traning dataset folder\n",
    "training_set = ImageDataGenerator( rescale = 1/255.5)\n",
    "training_data = training_set.flow_from_directory(\n",
    "    train_path,\n",
    "    target_size = (224,224),\n",
    "    class_mode = \"categorical\",\n",
    "    batch_size = batch_size\n",
    "  )"
   ]
  },
  {
   "cell_type": "code",
   "execution_count": null,
   "id": "3ab78e83",
   "metadata": {
    "execution": {
     "iopub.execute_input": "2023-11-19T20:20:23.183008Z",
     "iopub.status.busy": "2023-11-19T20:20:23.182642Z",
     "iopub.status.idle": "2023-11-19T20:20:25.647810Z",
     "shell.execute_reply": "2023-11-19T20:20:25.646955Z"
    },
    "papermill": {
     "duration": 2.484262,
     "end_time": "2023-11-19T20:20:25.652308",
     "exception": false,
     "start_time": "2023-11-19T20:20:23.168046",
     "status": "completed"
    },
    "tags": []
   },
   "outputs": [],
   "source": [
    "#Setting the validation dataset folder \n",
    "validation_set = ImageDataGenerator( rescale = 1/255.5)\n",
    "validation_data = validation_set.flow_from_directory(\n",
    "    valid_path,\n",
    "    target_size = (224,224),\n",
    "    class_mode = \"categorical\",\n",
    "    shuffle = False,  # For corretly printing the ConfusionMartix and Roc curvs\n",
    "    batch_size = batch_size\n",
    ")"
   ]
  },
  {
   "cell_type": "markdown",
   "id": "87711857",
   "metadata": {
    "papermill": {
     "duration": 0.013704,
     "end_time": "2023-11-19T20:20:25.681148",
     "exception": false,
     "start_time": "2023-11-19T20:20:25.667444",
     "status": "completed"
    },
    "tags": []
   },
   "source": [
    "**Data exploration**"
   ]
  },
  {
   "cell_type": "code",
   "execution_count": null,
   "id": "e228a3ec",
   "metadata": {
    "execution": {
     "iopub.execute_input": "2023-11-19T20:20:25.711186Z",
     "iopub.status.busy": "2023-11-19T20:20:25.710845Z",
     "iopub.status.idle": "2023-11-19T20:20:25.716102Z",
     "shell.execute_reply": "2023-11-19T20:20:25.715190Z"
    },
    "papermill": {
     "duration": 0.022979,
     "end_time": "2023-11-19T20:20:25.718117",
     "exception": false,
     "start_time": "2023-11-19T20:20:25.695138",
     "status": "completed"
    },
    "tags": []
   },
   "outputs": [],
   "source": [
    "#Finding the categories\n",
    "categories = training_data.class_indices.keys()\n",
    "print(categories)"
   ]
  },
  {
   "cell_type": "code",
   "execution_count": null,
   "id": "2fc1ab7f",
   "metadata": {
    "execution": {
     "iopub.execute_input": "2023-11-19T20:20:25.746403Z",
     "iopub.status.busy": "2023-11-19T20:20:25.746135Z",
     "iopub.status.idle": "2023-11-19T20:20:30.070018Z",
     "shell.execute_reply": "2023-11-19T20:20:30.069073Z"
    },
    "papermill": {
     "duration": 4.377792,
     "end_time": "2023-11-19T20:20:30.109572",
     "exception": false,
     "start_time": "2023-11-19T20:20:25.731780",
     "status": "completed"
    },
    "tags": []
   },
   "outputs": [],
   "source": [
    "#getting the class name and displaying 16 images and its class name\n",
    "classes=list(training_data.class_indices.keys())\n",
    "plt.figure(figsize=(18,18))\n",
    "for X_batch, y_batch in training_data:\n",
    "    \n",
    "    for i in range(0,16):\n",
    "        plt.subplot(4,4,i+1)\n",
    "        plt.imshow(X_batch[i])\n",
    "        plt.title(classes[np.where(y_batch[i]==1)[0][0]])\n",
    "    # show the plot\n",
    "    plt.show()\n",
    "   # plt.savefig('rnd.jpg', bbox_inches = 'tight')\n",
    "    break"
   ]
  },
  {
   "cell_type": "code",
   "execution_count": null,
   "id": "b063640b",
   "metadata": {
    "execution": {
     "iopub.execute_input": "2023-11-19T20:20:30.226593Z",
     "iopub.status.busy": "2023-11-19T20:20:30.226244Z",
     "iopub.status.idle": "2023-11-19T20:20:30.232477Z",
     "shell.execute_reply": "2023-11-19T20:20:30.231635Z"
    },
    "papermill": {
     "duration": 0.067015,
     "end_time": "2023-11-19T20:20:30.234906",
     "exception": false,
     "start_time": "2023-11-19T20:20:30.167891",
     "status": "completed"
    },
    "tags": []
   },
   "outputs": [],
   "source": [
    "#Finding Number of Uniqe plantes in the dataset\n",
    "plants = []\n",
    "NumberOfDiseases = 0\n",
    "for plant in diseases:\n",
    "    if plant.split('___')[0] not in plants:\n",
    "        plants.append(plant.split('___')[0])\n",
    "    if plant.split('___')[1] != 'healthy':\n",
    "        NumberOfDiseases += 1\n",
    "print(f\"Unique Plants are: \\n{plants}\\n\")\n",
    "# displayig number of unique diseases\n",
    "print(\"Number of diseases are: {}\".format(NumberOfDiseases))"
   ]
  },
  {
   "cell_type": "code",
   "execution_count": null,
   "id": "90468017",
   "metadata": {
    "execution": {
     "iopub.execute_input": "2023-11-19T20:20:30.344806Z",
     "iopub.status.busy": "2023-11-19T20:20:30.344439Z",
     "iopub.status.idle": "2023-11-19T20:20:30.431298Z",
     "shell.execute_reply": "2023-11-19T20:20:30.430387Z"
    },
    "papermill": {
     "duration": 0.143799,
     "end_time": "2023-11-19T20:20:30.433323",
     "exception": false,
     "start_time": "2023-11-19T20:20:30.289524",
     "status": "completed"
    },
    "tags": []
   },
   "outputs": [],
   "source": [
    "# Number of images for each disease\n",
    "nums_train = {}\n",
    "nums_val = {}\n",
    "for disease in diseases:\n",
    "    nums_train[disease] = len(os.listdir(train_path + '/' + disease))\n",
    "    nums_val[disease] = len(os.listdir(valid_path + '/' + disease))\n",
    "img_per_class_train = pd.DataFrame(nums_train.values(), index=nums_train.keys(), columns=[\"no. of images\"])\n",
    "print('Train datast distribution :')\n",
    "img_per_class_train\n"
   ]
  },
  {
   "cell_type": "code",
   "execution_count": null,
   "id": "7863257f",
   "metadata": {
    "execution": {
     "iopub.execute_input": "2023-11-19T20:20:30.545622Z",
     "iopub.status.busy": "2023-11-19T20:20:30.545282Z",
     "iopub.status.idle": "2023-11-19T20:20:31.304799Z",
     "shell.execute_reply": "2023-11-19T20:20:31.303910Z"
    },
    "papermill": {
     "duration": 0.818904,
     "end_time": "2023-11-19T20:20:31.307547",
     "exception": false,
     "start_time": "2023-11-19T20:20:30.488643",
     "status": "completed"
    },
    "tags": []
   },
   "outputs": [],
   "source": [
    "# section for visualising each class in the training raw dataset\n",
    "train_diratory=train_path\n",
    "nums = {}\n",
    "for disease in diseases:\n",
    "    nums[disease] = len(os.listdir(train_path + '/' + disease))\n",
    "\n",
    "# plotting number of images available for each image classes\n",
    "index = [n for n in range(38)]\n",
    "plt.figure(figsize=(15, 5))\n",
    "plt.bar(index, [n for n in nums.values()], width=0.4)\n",
    "plt.xlabel('Plants/Diseases', fontsize=10)\n",
    "plt.ylabel('No of images available', fontsize=10)\n",
    "plt.xticks(index, diseases, fontsize=11, rotation=90)\n",
    "plt.title('Images per each class of plant disease')\n"
   ]
  },
  {
   "cell_type": "code",
   "execution_count": null,
   "id": "c4f2b0b4",
   "metadata": {
    "execution": {
     "iopub.execute_input": "2023-11-19T21:05:23.947538Z",
     "iopub.status.busy": "2023-11-19T21:05:23.946794Z",
     "iopub.status.idle": "2023-11-19T21:05:23.955041Z",
     "shell.execute_reply": "2023-11-19T21:05:23.954120Z"
    },
    "papermill": {
     "duration": 1.420776,
     "end_time": "2023-11-19T21:05:23.957018",
     "exception": false,
     "start_time": "2023-11-19T21:05:22.536242",
     "status": "completed"
    },
    "tags": []
   },
   "outputs": [],
   "source": [
    "def Display_Model_Loss_Accuracy(history):\n",
    "  # funtion for ploting model accuracy and loss graph\n",
    "  #=============================================================================\n",
    "  # Create figure with secondary y-axis\n",
    "  fig = make_subplots(specs=[[{\"secondary_y\": True}]])\n",
    "\n",
    "  # Adding traces ------------------------------------------------------------\n",
    "  fig.add_trace(go_obj.Scatter( y=history.history['val_loss'], name=\"val_loss\"),secondary_y=False,)\n",
    "  fig.add_trace(go_obj.Scatter( y=history.history['loss'], name=\"loss\"),secondary_y=False,)\n",
    "  fig.add_trace(go_obj.Scatter( y=history.history['val_accuracy'], name=\"val accuracy\"),secondary_y=True,)\n",
    "  fig.add_trace(go_obj.Scatter( y=history.history['accuracy'], name=\"accuracy\"),secondary_y=True,)\n",
    "\n",
    "  # Adding figure title---------------------------------------------------------\n",
    "  fig.update_layout(title_text=\"Loss/Accuracy of Final Model\")\n",
    "  # Set x-axis title\n",
    "  fig.update_xaxes(title_text=\"Epoch\")\n",
    "\n",
    "  # Set y-axes titles-----------------------------------------------------------\n",
    "  fig.update_yaxes(title_text=\"<b>primary</b> Loss\", secondary_y=False)\n",
    "  fig.update_yaxes(title_text=\"<b>secondary</b> Accuracy\", secondary_y=True)\n",
    "  fig.show()\n",
    "  #============================================================================"
   ]
  },
  {
   "cell_type": "code",
   "execution_count": null,
   "id": "bd197b77",
   "metadata": {
    "execution": {
     "iopub.execute_input": "2023-11-19T21:05:29.990949Z",
     "iopub.status.busy": "2023-11-19T21:05:29.989851Z",
     "iopub.status.idle": "2023-11-19T21:05:30.000296Z",
     "shell.execute_reply": "2023-11-19T21:05:29.999336Z"
    },
    "papermill": {
     "duration": 1.42267,
     "end_time": "2023-11-19T21:05:30.002306",
     "exception": false,
     "start_time": "2023-11-19T21:05:28.579636",
     "status": "completed"
    },
    "tags": []
   },
   "outputs": [],
   "source": [
    "################################################################################\n",
    "def validate_test_images_and_display(model,number_test_images):\n",
    "  #funtion for prediting the 33 supplied test image's file name and predicted class\n",
    "  test_image_data = []\n",
    "  test_image_filenames = []\n",
    "  IMG_SHAPE  = (224, 224)\n",
    "  #-----------------------------------------------------------------------------\n",
    "  for img_name in os.listdir(test_path):\n",
    "    img = load_img(os.path.join(test_path, img_name), target_size = IMG_SHAPE)\n",
    "    test_image_data.append(img_to_array(img, dtype = 'uint8'))\n",
    "    test_image_filenames.append(img_name)\n",
    "      \n",
    "  test_image_data = np.array(test_image_data)/255\n",
    "  #print(f'\\nTotal testing images: {len(test_image_data)}')\n",
    "  #-----------------------------------------------------------------------------\n",
    "  test_pred = np.argmax(model.predict(test_image_data), axis = 1)\n",
    "\n",
    "  class_name_lookup = {name: index for index, name in training_data.class_indices.items()}\n",
    "  #for k, v in class_name_lookup.items():\n",
    "  #  print(f\"{k:2} : {v}\")\n",
    "  \n",
    "  test_pred_classes = [class_name_lookup[i] for i in test_pred]\n",
    "\n",
    "  data_frame=pd.DataFrame({\n",
    "    \"Filename\": test_image_filenames,\n",
    "    \"Predicted classes\": test_pred_classes\n",
    "    })\n",
    "  display (data_frame) # Displaying the dataframe \n",
    "  #-----------------------------------------------------------------------------\n",
    "  #Display test images and its real label and predecited label here\n",
    "  plt.subplots(nrows = 3, ncols = 4, figsize = (20, 15))\n",
    "\n",
    "  for i in range(number_test_images):\n",
    "    plt.subplot(3, 4, i + 1)\n",
    "    plt.axis(False)\n",
    "    plt.grid(False)\n",
    "    plt.imshow(test_image_data[i])\n",
    "    plt.title(f\"True: {test_image_filenames[i][:-4]}\\nPrediction:{test_pred_classes[i]}\")\n",
    "  plt.show()\n",
    "  #-----------------------------------------------------------------------------\n",
    "################################################################################"
   ]
  },
  {
   "cell_type": "code",
   "execution_count": null,
   "id": "a567fcb0",
   "metadata": {
    "execution": {
     "iopub.execute_input": "2023-11-19T21:05:38.836830Z",
     "iopub.status.busy": "2023-11-19T21:05:38.836449Z",
     "iopub.status.idle": "2023-11-19T21:05:38.841051Z",
     "shell.execute_reply": "2023-11-19T21:05:38.840131Z"
    },
    "papermill": {
     "duration": 1.464114,
     "end_time": "2023-11-19T21:05:38.842967",
     "exception": false,
     "start_time": "2023-11-19T21:05:37.378853",
     "status": "completed"
    },
    "tags": []
   },
   "outputs": [],
   "source": [
    "class_name_lookup = {name: index for index, name in training_data.class_indices.items()}"
   ]
  },
  {
   "cell_type": "code",
   "execution_count": null,
   "id": "357e460d",
   "metadata": {
    "execution": {
     "iopub.execute_input": "2023-11-19T21:06:59.605376Z",
     "iopub.status.busy": "2023-11-19T21:06:59.605000Z",
     "iopub.status.idle": "2023-11-19T21:06:59.611465Z",
     "shell.execute_reply": "2023-11-19T21:06:59.610623Z"
    },
    "papermill": {
     "duration": 1.442014,
     "end_time": "2023-11-19T21:06:59.613233",
     "exception": false,
     "start_time": "2023-11-19T21:06:58.171219",
     "status": "completed"
    },
    "tags": []
   },
   "outputs": [],
   "source": [
    "################################################################################\n",
    "#Fuction to dispay confusion matrix based on the predections.\n",
    "def Display_Confusion_Matrix(val_true,val_pred,class_name_lookup):\n",
    "  # here printing the confustion matrix\n",
    "  _, ax = plt.subplots(figsize = (20, 16))\n",
    "  ax.grid(False)\n",
    "\n",
    "  ConfusionMatrixDisplay(confusion_matrix(val_true, val_pred, labels = list(class_name_lookup.keys())),\n",
    "                        display_labels = list(class_name_lookup.values())\n",
    "                        ).plot(ax = ax, xticks_rotation = 'vertical')\n",
    "\n",
    "  plt.savefig('confusion_matrix.jpg', bbox_inches = 'tight')\n",
    "  plt.show()\n",
    "################################################################################"
   ]
  },
  {
   "cell_type": "code",
   "execution_count": null,
   "id": "3743e587",
   "metadata": {
    "execution": {
     "iopub.execute_input": "2023-11-19T21:07:12.093030Z",
     "iopub.status.busy": "2023-11-19T21:07:12.092648Z",
     "iopub.status.idle": "2023-11-19T21:07:12.097991Z",
     "shell.execute_reply": "2023-11-19T21:07:12.096971Z"
    },
    "papermill": {
     "duration": 1.448255,
     "end_time": "2023-11-19T21:07:12.099979",
     "exception": false,
     "start_time": "2023-11-19T21:07:10.651724",
     "status": "completed"
    },
    "tags": []
   },
   "outputs": [],
   "source": [
    "def Dispay_Classifiation_Report(val_true,val_pred,class_name_lookup):\n",
    "################################################################################\n",
    "# classifiation report printing here\n",
    "  display_labels = list(class_name_lookup.values())\n",
    "  print(classification_report(val_true,val_pred,target_names=class_name_lookup.values())) \n",
    "################################################################################"
   ]
  },
  {
   "cell_type": "code",
   "execution_count": null,
   "id": "c58a9798",
   "metadata": {
    "execution": {
     "iopub.execute_input": "2023-11-19T21:07:18.168924Z",
     "iopub.status.busy": "2023-11-19T21:07:18.168550Z",
     "iopub.status.idle": "2023-11-19T21:07:18.173137Z",
     "shell.execute_reply": "2023-11-19T21:07:18.172258Z"
    },
    "papermill": {
     "duration": 1.539877,
     "end_time": "2023-11-19T21:07:18.174961",
     "exception": false,
     "start_time": "2023-11-19T21:07:16.635084",
     "status": "completed"
    },
    "tags": []
   },
   "outputs": [],
   "source": [
    "target=validation_data.class_indices.keys() # getting the classs names for printing the ROC Graph\n",
    "y_test =  validation_data.classes"
   ]
  },
  {
   "cell_type": "code",
   "execution_count": null,
   "id": "ab00a655",
   "metadata": {
    "execution": {
     "iopub.execute_input": "2023-11-19T21:07:21.113692Z",
     "iopub.status.busy": "2023-11-19T21:07:21.113192Z",
     "iopub.status.idle": "2023-11-19T21:07:21.120675Z",
     "shell.execute_reply": "2023-11-19T21:07:21.119778Z"
    },
    "papermill": {
     "duration": 1.515942,
     "end_time": "2023-11-19T21:07:21.122692",
     "exception": false,
     "start_time": "2023-11-19T21:07:19.606750",
     "status": "completed"
    },
    "tags": []
   },
   "outputs": [],
   "source": [
    "################################################################################\n",
    "# function  roc auc score for multi-class datasets, since this dataset has 38 class\n",
    "# funtion calling 2 times\n",
    "def Multiclass_Roc_Auc_Scores(y_test, y_pred,min_class,max_class, average=\"macro\"):\n",
    "    lb = LabelBinarizer()\n",
    "    lb.fit(y_test)\n",
    "    y_test = lb.transform(y_test)\n",
    "    y_pred = lb.transform(y_pred)\n",
    "    i=0\n",
    "    for (idx, c_label) in enumerate(target):\n",
    "          i=i+1\n",
    "          fpr, tpr, thresholds = roc_curve(y_test[:,idx].astype(int), y_pred[:,idx])\n",
    "          if i>=min_class and i<=max_class: \n",
    "            c_ax.plot(fpr, tpr, label = '%s (AUC:%0.2f)'  % (c_label, auc(fpr, tpr)))\n",
    "    c_ax.plot(fpr, fpr, 'b-', label = 'Random Guessing')\n",
    "    return roc_auc_score(y_test, y_pred, average=average)"
   ]
  },
  {
   "cell_type": "code",
   "execution_count": null,
   "id": "1e194c11",
   "metadata": {
    "execution": {
     "iopub.execute_input": "2023-11-19T21:07:31.165440Z",
     "iopub.status.busy": "2023-11-19T21:07:31.165045Z",
     "iopub.status.idle": "2023-11-19T21:07:31.172227Z",
     "shell.execute_reply": "2023-11-19T21:07:31.171275Z"
    },
    "papermill": {
     "duration": 1.598295,
     "end_time": "2023-11-19T21:07:31.174506",
     "exception": false,
     "start_time": "2023-11-19T21:07:29.576211",
     "status": "completed"
    },
    "tags": []
   },
   "outputs": [],
   "source": [
    "def model_evalution(ev_model,value_data,model_size):\n",
    "    ################################################################################\n",
    "    #Model evalution : # Getting  validation accuracy and model size time to train\n",
    "    ################################################################################\n",
    "    start = perf_counter() \n",
    "    loss,Model_Accuracy = ev_model.evaluate(value_data, verbose = 0 )\n",
    "    end = perf_counter() \n",
    "    ModelSize = model_size\n",
    "    # let convert to MB\n",
    "    ModelSize = ModelSize / (1024 * 1024)\n",
    "    #-------------------------------------------------------------------------------\n",
    "    print('Model Summary:')\n",
    "    print('Model size(MB)                : {}'.format(ModelSize))\n",
    "    print('Time on Validation data (sec) : {}'.format(end - start))\n",
    "    print('Accuracy on validation data   : {}'.format(Model_Accuracy))\n",
    "    print('Loss on validation data       : {}'.format(loss))\n",
    "    #print('Time on Training Model  (sec) : {}'.format(end_training - start_training)"
   ]
  },
  {
   "cell_type": "code",
   "execution_count": null,
   "id": "8db82534",
   "metadata": {
    "execution": {
     "iopub.execute_input": "2023-11-19T21:08:21.463632Z",
     "iopub.status.busy": "2023-11-19T21:08:21.463265Z",
     "iopub.status.idle": "2023-11-19T21:08:25.531702Z",
     "shell.execute_reply": "2023-11-19T21:08:25.530937Z"
    },
    "papermill": {
     "duration": 5.58326,
     "end_time": "2023-11-19T21:08:25.534220",
     "exception": false,
     "start_time": "2023-11-19T21:08:19.950960",
     "status": "completed"
    },
    "tags": []
   },
   "outputs": [],
   "source": [
    "## *** InceptionV3 **###\n",
    "#Import the InceptionV3 library as shown below and\n",
    "#add preprocessing layer to the front of InceptionV3\n",
    "from tensorflow.keras.applications.inception_v3 import InceptionV3\n",
    "#-------------------------------------------------------------------------------\n",
    "inception = InceptionV3(input_shape=(224,224,3), weights='imagenet', include_top=False)\n",
    "print(\"*** Building model with InceptionV3 with imagenet weights***\")\n",
    "model_inception = Sequential([\n",
    "    inception,\n",
    "    Flatten(),\n",
    "    Dense(512, activation='relu'),\n",
    "    Dropout(rate=0.2),\n",
    "    Dense(38, activation='softmax')\n",
    "])\n"
   ]
  },
  {
   "cell_type": "code",
   "execution_count": null,
   "id": "810f5233",
   "metadata": {
    "execution": {
     "iopub.execute_input": "2023-11-19T21:08:28.496861Z",
     "iopub.status.busy": "2023-11-19T21:08:28.496497Z",
     "iopub.status.idle": "2023-11-19T21:08:28.501047Z",
     "shell.execute_reply": "2023-11-19T21:08:28.500138Z"
    },
    "papermill": {
     "duration": 1.513875,
     "end_time": "2023-11-19T21:08:28.503046",
     "exception": false,
     "start_time": "2023-11-19T21:08:26.989171",
     "status": "completed"
    },
    "tags": []
   },
   "outputs": [],
   "source": [
    "######################################################################################\n",
    "#Setting the same model name here, so all the functions will work without out any chage\n",
    "model = model_inception #setting Inception model here\n",
    "######################################################################################"
   ]
  },
  {
   "cell_type": "code",
   "execution_count": null,
   "id": "4cb2ff12",
   "metadata": {
    "execution": {
     "iopub.execute_input": "2023-11-19T21:08:31.505394Z",
     "iopub.status.busy": "2023-11-19T21:08:31.505035Z",
     "iopub.status.idle": "2023-11-19T21:08:31.526730Z",
     "shell.execute_reply": "2023-11-19T21:08:31.525956Z"
    },
    "papermill": {
     "duration": 1.57456,
     "end_time": "2023-11-19T21:08:31.529011",
     "exception": false,
     "start_time": "2023-11-19T21:08:29.954451",
     "status": "completed"
    },
    "tags": []
   },
   "outputs": [],
   "source": [
    "################################################################################\n",
    "#Model compiling\n",
    "opt = keras.optimizers.Adam(learning_rate=0.0001)\n",
    "model.compile(optimizer=opt,loss='categorical_crossentropy',metrics=['accuracy'])\n",
    "################################################################################"
   ]
  },
  {
   "cell_type": "code",
   "execution_count": null,
   "id": "3e9d3a6a",
   "metadata": {
    "execution": {
     "iopub.execute_input": "2023-11-19T21:08:34.572580Z",
     "iopub.status.busy": "2023-11-19T21:08:34.572202Z",
     "iopub.status.idle": "2023-11-19T21:08:34.577002Z",
     "shell.execute_reply": "2023-11-19T21:08:34.576109Z"
    },
    "papermill": {
     "duration": 1.46182,
     "end_time": "2023-11-19T21:08:34.579073",
     "exception": false,
     "start_time": "2023-11-19T21:08:33.117253",
     "status": "completed"
    },
    "tags": []
   },
   "outputs": [],
   "source": [
    "import keras.callbacks as callbacks\n",
    "import time\n",
    "early_stopping_cb = callbacks.EarlyStopping(monitor=\"loss\", patience=3)"
   ]
  },
  {
   "cell_type": "code",
   "execution_count": null,
   "id": "98e5c840",
   "metadata": {
    "execution": {
     "iopub.execute_input": "2023-11-19T21:08:37.567607Z",
     "iopub.status.busy": "2023-11-19T21:08:37.566566Z",
     "iopub.status.idle": "2023-11-19T22:05:37.692119Z",
     "shell.execute_reply": "2023-11-19T22:05:37.691157Z"
    },
    "papermill": {
     "duration": 3424.143106,
     "end_time": "2023-11-19T22:05:40.244699",
     "exception": false,
     "start_time": "2023-11-19T21:08:36.101593",
     "status": "completed"
    },
    "tags": []
   },
   "outputs": [],
   "source": [
    "start_training = perf_counter()\n",
    "history = model.fit(\n",
    "    training_data,\n",
    "    validation_data = validation_data,\n",
    "    epochs = 10, batch_size = 50,\n",
    "    callbacks=[early_stopping_cb]\n",
    ")\n",
    "end_training= perf_counter()"
   ]
  },
  {
   "cell_type": "code",
   "execution_count": null,
   "id": "3836b9d8",
   "metadata": {
    "execution": {
     "iopub.execute_input": "2023-11-19T22:05:45.578199Z",
     "iopub.status.busy": "2023-11-19T22:05:45.577829Z",
     "iopub.status.idle": "2023-11-19T22:05:45.617174Z",
     "shell.execute_reply": "2023-11-19T22:05:45.616390Z"
    },
    "papermill": {
     "duration": 2.597593,
     "end_time": "2023-11-19T22:05:45.619386",
     "exception": false,
     "start_time": "2023-11-19T22:05:43.021793",
     "status": "completed"
    },
    "tags": []
   },
   "outputs": [],
   "source": [
    "Display_Model_Loss_Accuracy(history) # calling funciton to print model accuracy graph"
   ]
  },
  {
   "cell_type": "code",
   "execution_count": null,
   "id": "f7e5a8dc",
   "metadata": {
    "execution": {
     "iopub.execute_input": "2023-11-19T22:05:50.911396Z",
     "iopub.status.busy": "2023-11-19T22:05:50.911035Z",
     "iopub.status.idle": "2023-11-19T22:05:55.909612Z",
     "shell.execute_reply": "2023-11-19T22:05:55.908628Z"
    },
    "papermill": {
     "duration": 7.666766,
     "end_time": "2023-11-19T22:05:55.934573",
     "exception": false,
     "start_time": "2023-11-19T22:05:48.267807",
     "status": "completed"
    },
    "tags": []
   },
   "outputs": [],
   "source": [
    "number_test_images=12 # printing 12 images from the supplied test images\n",
    "validate_test_images_and_display(model,number_test_images) # Prediting the supplied 33 images which is unkonw to the model"
   ]
  },
  {
   "cell_type": "code",
   "execution_count": null,
   "id": "e4395012",
   "metadata": {
    "execution": {
     "iopub.execute_input": "2023-11-19T22:06:01.258353Z",
     "iopub.status.busy": "2023-11-19T22:06:01.257991Z",
     "iopub.status.idle": "2023-11-19T22:07:17.981607Z",
     "shell.execute_reply": "2023-11-19T22:07:17.980761Z"
    },
    "papermill": {
     "duration": 79.302052,
     "end_time": "2023-11-19T22:07:17.983803",
     "exception": false,
     "start_time": "2023-11-19T22:05:58.681751",
     "status": "completed"
    },
    "tags": []
   },
   "outputs": [],
   "source": [
    "#For confusion matrix\n",
    "class_name_lookup = {name: index for index, name in training_data.class_indices.items()}\n",
    "val_true = validation_data.classes\n",
    "val_pred = np.argmax(model.predict(validation_data), axis = 1)\n",
    "val_pred_float=model.predict(validation_data)\n",
    "class_name_lookup = {name: index for index, name in training_data.class_indices.items()}"
   ]
  },
  {
   "cell_type": "code",
   "execution_count": null,
   "id": "2b55fed9",
   "metadata": {
    "execution": {
     "iopub.execute_input": "2023-11-19T22:07:23.379553Z",
     "iopub.status.busy": "2023-11-19T22:07:23.378666Z",
     "iopub.status.idle": "2023-11-19T22:07:29.727973Z",
     "shell.execute_reply": "2023-11-19T22:07:29.727067Z"
    },
    "papermill": {
     "duration": 9.126542,
     "end_time": "2023-11-19T22:07:29.732963",
     "exception": false,
     "start_time": "2023-11-19T22:07:20.606421",
     "status": "completed"
    },
    "tags": []
   },
   "outputs": [],
   "source": [
    "Display_Confusion_Matrix(val_true,val_pred,class_name_lookup) # confusion-matrix"
   ]
  },
  {
   "cell_type": "code",
   "execution_count": null,
   "id": "9afdfbef",
   "metadata": {
    "execution": {
     "iopub.execute_input": "2023-11-19T22:07:35.223806Z",
     "iopub.status.busy": "2023-11-19T22:07:35.222875Z",
     "iopub.status.idle": "2023-11-19T22:07:37.258942Z",
     "shell.execute_reply": "2023-11-19T22:07:37.257890Z"
    },
    "papermill": {
     "duration": 4.894891,
     "end_time": "2023-11-19T22:07:37.261548",
     "exception": false,
     "start_time": "2023-11-19T22:07:32.366657",
     "status": "completed"
    },
    "tags": []
   },
   "outputs": [],
   "source": [
    "model.save('final_model.h5') # saving the Model here, so that re-use the model later "
   ]
  },
  {
   "cell_type": "code",
   "execution_count": null,
   "id": "5f8d7c1a",
   "metadata": {
    "execution": {
     "iopub.execute_input": "2023-11-19T22:07:42.651851Z",
     "iopub.status.busy": "2023-11-19T22:07:42.651450Z",
     "iopub.status.idle": "2023-11-19T22:08:20.564260Z",
     "shell.execute_reply": "2023-11-19T22:08:20.563271Z"
    },
    "papermill": {
     "duration": 43.314081,
     "end_time": "2023-11-19T22:08:23.189223",
     "exception": false,
     "start_time": "2023-11-19T22:07:39.875142",
     "status": "completed"
    },
    "tags": []
   },
   "outputs": [],
   "source": [
    "model_evalution(model,validation_data,os.path.getsize('final_model.h5'))"
   ]
  },
  {
   "cell_type": "code",
   "execution_count": null,
   "id": "092b10b0",
   "metadata": {
    "execution": {
     "iopub.execute_input": "2023-11-19T22:08:28.663948Z",
     "iopub.status.busy": "2023-11-19T22:08:28.663296Z",
     "iopub.status.idle": "2023-11-19T22:08:28.689677Z",
     "shell.execute_reply": "2023-11-19T22:08:28.688636Z"
    },
    "papermill": {
     "duration": 2.673711,
     "end_time": "2023-11-19T22:08:28.692220",
     "exception": false,
     "start_time": "2023-11-19T22:08:26.018509",
     "status": "completed"
    },
    "tags": []
   },
   "outputs": [],
   "source": [
    "Dispay_Classifiation_Report(val_true,val_pred,class_name_lookup)"
   ]
  }
 ],
 "metadata": {
  "kaggle": {
   "accelerator": "gpu",
   "dataSources": [
    {
     "datasetId": 78313,
     "sourceId": 182633,
     "sourceType": "datasetVersion"
    }
   ],
   "dockerImageVersionId": 30558,
   "isGpuEnabled": true,
   "isInternetEnabled": true,
   "language": "python",
   "sourceType": "notebook"
  },
  "kernelspec": {
   "display_name": "Python 3",
   "language": "python",
   "name": "python3"
  },
  "language_info": {
   "codemirror_mode": {
    "name": "ipython",
    "version": 3
   },
   "file_extension": ".py",
   "mimetype": "text/x-python",
   "name": "python",
   "nbconvert_exporter": "python",
   "pygments_lexer": "ipython3",
   "version": "3.10.12"
  },
  "papermill": {
   "default_parameters": {},
   "duration": 6566.895621,
   "end_time": "2023-11-19T22:08:45.430902",
   "environment_variables": {},
   "exception": null,
   "input_path": "__notebook__.ipynb",
   "output_path": "__notebook__.ipynb",
   "parameters": {},
   "start_time": "2023-11-19T20:19:18.535281",
   "version": "2.4.0"
  }
 },
 "nbformat": 4,
 "nbformat_minor": 5
}
