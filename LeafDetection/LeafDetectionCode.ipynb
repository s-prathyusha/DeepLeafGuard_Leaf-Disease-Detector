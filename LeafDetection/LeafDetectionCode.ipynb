{
 "cells": [
  {
   "cell_type": "code",
   "execution_count": 2,
   "metadata": {},
   "outputs": [],
   "source": [
    "# Import necessary libraries\n",
    "from tensorflow.keras.applications import InceptionV3\n",
    "from tensorflow.keras.preprocessing.image import ImageDataGenerator\n",
    "from tensorflow.keras import layers, models\n",
    "import matplotlib.pyplot as plt"
   ]
  },
  {
   "cell_type": "code",
   "execution_count": 3,
   "metadata": {},
   "outputs": [],
   "source": [
    "# Define paths to your datasets\n",
    "train_data_dir = 'C:\\\\Users\\\\Hp\\\\Desktop\\\\ImageDetectionDataset\\\\Train'\n",
    "validation_data_dir = 'C:\\\\Users\\\\Hp\\\\Desktop\\\\ImageDetectionDataset\\\\Valid'"
   ]
  },
  {
   "cell_type": "code",
   "execution_count": 4,
   "metadata": {},
   "outputs": [],
   "source": [
    "# Define image size and batch size\n",
    "img_size = (299, 299)\n",
    "batch_size = 32"
   ]
  },
  {
   "cell_type": "code",
   "execution_count": 5,
   "metadata": {},
   "outputs": [],
   "source": [
    "# Load InceptionV3 model without top layers\n",
    "base_model = InceptionV3(weights='imagenet', include_top=False, input_shape=(299, 299, 3))"
   ]
  },
  {
   "cell_type": "code",
   "execution_count": 6,
   "metadata": {},
   "outputs": [],
   "source": [
    "# Freeze the convolutional layers\n",
    "for layer in base_model.layers:\n",
    "    layer.trainable = False"
   ]
  },
  {
   "cell_type": "code",
   "execution_count": 7,
   "metadata": {},
   "outputs": [],
   "source": [
    "# Add custom classification layers\n",
    "model = models.Sequential()\n",
    "model.add(base_model)\n",
    "model.add(layers.GlobalAveragePooling2D())\n",
    "model.add(layers.Dense(256, activation='relu'))\n",
    "model.add(layers.Dropout(0.5))\n",
    "model.add(layers.Dense(1, activation='sigmoid'))  # Binary classification (leaf or non-leaf)\n"
   ]
  },
  {
   "cell_type": "code",
   "execution_count": 8,
   "metadata": {},
   "outputs": [],
   "source": [
    "# Compile the model\n",
    "model.compile(optimizer='adam', loss='binary_crossentropy', metrics=['accuracy'])"
   ]
  },
  {
   "cell_type": "code",
   "execution_count": 9,
   "metadata": {},
   "outputs": [],
   "source": [
    "# Data augmentation for training\n",
    "train_datagen = ImageDataGenerator(rescale=1./255,\n",
    "                                   shear_range=0.2,\n",
    "                                   zoom_range=0.2,\n",
    "                                   rotation_range=20,\n",
    "                                   width_shift_range=0.2,\n",
    "                                   height_shift_range=0.2,\n",
    "                                   horizontal_flip=True)\n"
   ]
  },
  {
   "cell_type": "code",
   "execution_count": 10,
   "metadata": {},
   "outputs": [],
   "source": [
    "# No data augmentation for validation\n",
    "validation_datagen = ImageDataGenerator(rescale=1./255)"
   ]
  },
  {
   "cell_type": "code",
   "execution_count": 11,
   "metadata": {},
   "outputs": [
    {
     "name": "stdout",
     "output_type": "stream",
     "text": [
      "Found 534 images belonging to 2 classes.\n"
     ]
    }
   ],
   "source": [
    "# Load and augment the training data\n",
    "train_generator = train_datagen.flow_from_directory(train_data_dir,\n",
    "                                                    target_size=img_size,\n",
    "                                                    batch_size=batch_size,\n",
    "                                                    class_mode='binary')"
   ]
  },
  {
   "cell_type": "code",
   "execution_count": 12,
   "metadata": {},
   "outputs": [
    {
     "name": "stdout",
     "output_type": "stream",
     "text": [
      "Found 641 images belonging to 2 classes.\n"
     ]
    }
   ],
   "source": [
    "\n",
    "# Load the validation data\n",
    "validation_generator = validation_datagen.flow_from_directory(validation_data_dir,\n",
    "                                                              target_size=img_size,\n",
    "                                                              batch_size=batch_size,\n",
    "                                                              class_mode='binary')\n"
   ]
  },
  {
   "cell_type": "code",
   "execution_count": 13,
   "metadata": {},
   "outputs": [
    {
     "name": "stdout",
     "output_type": "stream",
     "text": [
      "Epoch 1/10\n",
      "16/16 [==============================] - 107s 7s/step - loss: 0.2069 - accuracy: 0.8984 - val_loss: 0.0214 - val_accuracy: 0.9937\n",
      "Epoch 2/10\n",
      "16/16 [==============================] - 86s 6s/step - loss: 0.0170 - accuracy: 0.9960 - val_loss: 0.0123 - val_accuracy: 0.9969\n",
      "Epoch 3/10\n",
      "16/16 [==============================] - 99s 6s/step - loss: 0.0121 - accuracy: 0.9960 - val_loss: 0.0221 - val_accuracy: 0.9906\n",
      "Epoch 4/10\n",
      "16/16 [==============================] - 107s 7s/step - loss: 0.0079 - accuracy: 0.9980 - val_loss: 0.0058 - val_accuracy: 0.9984\n",
      "Epoch 5/10\n",
      "16/16 [==============================] - 112s 7s/step - loss: 0.0036 - accuracy: 1.0000 - val_loss: 0.0227 - val_accuracy: 0.9906\n",
      "Epoch 6/10\n",
      "16/16 [==============================] - 111s 7s/step - loss: 0.0164 - accuracy: 0.9960 - val_loss: 0.0098 - val_accuracy: 0.9969\n",
      "Epoch 7/10\n",
      "16/16 [==============================] - 111s 7s/step - loss: 0.0065 - accuracy: 0.9961 - val_loss: 0.0054 - val_accuracy: 0.9984\n",
      "Epoch 8/10\n",
      "16/16 [==============================] - 112s 7s/step - loss: 0.0043 - accuracy: 1.0000 - val_loss: 0.0089 - val_accuracy: 0.9969\n",
      "Epoch 9/10\n",
      "16/16 [==============================] - 102s 6s/step - loss: 0.0026 - accuracy: 1.0000 - val_loss: 0.0060 - val_accuracy: 0.9969\n",
      "Epoch 10/10\n",
      "16/16 [==============================] - 93s 6s/step - loss: 0.0022 - accuracy: 1.0000 - val_loss: 0.0066 - val_accuracy: 0.9969\n"
     ]
    }
   ],
   "source": [
    "\n",
    "# Train the model\n",
    "history = model.fit(train_generator,\n",
    "                    steps_per_epoch=train_generator.samples // batch_size,\n",
    "                    epochs=10,\n",
    "                    validation_data=validation_generator,\n",
    "                    validation_steps=validation_generator.samples // batch_size)"
   ]
  },
  {
   "cell_type": "code",
   "execution_count": 14,
   "metadata": {},
   "outputs": [
    {
     "data": {
      "image/png": "[encoded data removed]",
      "text/plain": [
       "<Figure size 640x480 with 1 Axes>"
      ]
     },
     "metadata": {},
     "output_type": "display_data"
    }
   ],
   "source": [
    "# Plot training history\n",
    "plt.plot(history.history['accuracy'], label='Training Accuracy')\n",
    "plt.plot(history.history['val_accuracy'], label='Validation Accuracy')\n",
    "plt.xlabel('Epoch')\n",
    "plt.ylabel('Accuracy')\n",
    "plt.legend()\n",
    "plt.show()"
   ]
  },
  {
   "cell_type": "code",
   "execution_count": 15,
   "metadata": {},
   "outputs": [
    {
     "name": "stderr",
     "output_type": "stream",
     "text": [
      "C:\\Users\\Hp\\AppData\\Roaming\\Python\\Python38\\site-packages\\keras\\src\\engine\\training.py:3000: UserWarning: You are saving your model as an HDF5 file via `model.save()`. This file format is considered legacy. We recommend using instead the native Keras format, e.g. `model.save('my_model.keras')`.\n",
      "  saving_api.save_model(\n"
     ]
    }
   ],
   "source": [
    "\n",
    "# Save the model for later use\n",
    "model.save('LeafDetectionModel.h5')"
   ]
  },
  {
   "cell_type": "code",
   "execution_count": 20,
   "metadata": {},
   "outputs": [
    {
     "name": "stdout",
     "output_type": "stream",
     "text": [
      "1/1 [==============================] - 2s 2s/step\n",
      "[[2.5210822e-05]]\n",
      "Predicted class: Leaf\n"
     ]
    }
   ],
   "source": [
    "from tensorflow.keras.preprocessing import image\n",
    "import numpy as np\n",
    "\n",
    "# Load the trained model\n",
    "model = models.load_model('LeafDetectionModel.h5')\n",
    "\n",
    "# Define the path to the image you want to classify\n",
    "image_path =input()\n",
    "# Load and preprocess the image\n",
    "img = image.load_img(image_path, target_size=(299, 299))\n",
    "img_array = image.img_to_array(img)\n",
    "img_array = np.expand_dims(img_array, axis=0)\n",
    "img_array /= 255.0  # Rescale to match the training data\n",
    "\n",
    "# Make predictions\n",
    "predictions = model.predict(img_array)\n",
    "print(predictions)\n",
    "\n",
    "# Classify the image based on the prediction\n",
    "if predictions[0][0] < 0.5:\n",
    "    \n",
    "    print(\"Predicted class: Leaf\")\n",
    "else:\n",
    "    print(\"Predicted class:Non-Leaf\")\n"
   ]
  },
  {
   "cell_type": "code",
   "execution_count": 19,
   "metadata": {},
   "outputs": [
    {
     "name": "stdout",
     "output_type": "stream",
     "text": [
      "INFO:tensorflow:Assets written to: C:\\Users\\Hp\\AppData\\Local\\Temp\\tmpyxiy56mz\\assets\n"
     ]
    },
    {
     "name": "stderr",
     "output_type": "stream",
     "text": [
      "INFO:tensorflow:Assets written to: C:\\Users\\Hp\\AppData\\Local\\Temp\\tmpyxiy56mz\\assets\n"
     ]
    }
   ],
   "source": [
    "from tensorflow.keras.models import load_model\n",
    "import tensorflow as tf\n",
    "\n",
    "# Load the Keras model\n",
    "keras_model = load_model('LeafDetectionModel.h5')\n",
    "\n",
    "# Convert the Keras model to TensorFlow Lite format\n",
    "converter = tf.lite.TFLiteConverter.from_keras_model(keras_model)\n",
    "tflite_model = converter.convert()\n",
    "\n",
    "# Save the TFLite model to a file\n",
    "with open('LeafDetector.tflite', 'wb') as f:\n",
    "    f.write(tflite_model)"
   ]
  },
  {
   "cell_type": "code",
   "execution_count": null,
   "metadata": {},
   "outputs": [],
   "source": []
  }
 ],
 "metadata": {
  "kernelspec": {
   "display_name": "Python 3",
   "language": "python",
   "name": "python3"
  },
  "language_info": {
   "codemirror_mode": {
    "name": "ipython",
    "version": 3
   },
   "file_extension": ".py",
   "mimetype": "text/x-python",
   "name": "python",
   "nbconvert_exporter": "python",
   "pygments_lexer": "ipython3",
   "version": "3.8.10"
  }
 },
 "nbformat": 4,
 "nbformat_minor": 2
}
